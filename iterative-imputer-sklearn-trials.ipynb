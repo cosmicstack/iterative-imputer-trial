{
 "cells": [
  {
   "cell_type": "code",
   "execution_count": 1,
   "metadata": {
    "_cell_guid": "b1076dfc-b9ad-4769-8c92-a6c4dae69d19",
    "_uuid": "8f2839f25d086af736a60e9eeb907d3b93b6e0e5"
   },
   "outputs": [
    {
     "name": "stdout",
     "output_type": "stream",
     "text": [
      "/kaggle/input/electric-motor-temperature/pmsm_temperature_data.csv\n"
     ]
    }
   ],
   "source": [
    "# This Python 3 environment comes with many helpful analytics libraries installed\n",
    "# It is defined by the kaggle/python docker image: https://github.com/kaggle/docker-python\n",
    "# For example, here's several helpful packages to load in \n",
    "\n",
    "import numpy as np # linear algebra\n",
    "import pandas as pd # data processing, CSV file I/O (e.g. pd.read_csv)\n",
    "import matplotlib.pyplot as plt\n",
    "import seaborn as sns\n",
    "from sklearn.experimental import enable_iterative_imputer  \n",
    "from sklearn.impute import IterativeImputer\n",
    "from sklearn.metrics import mean_squared_error\n",
    "from scipy import stats\n",
    "\n",
    "# Input data files are available in the \"../input/\" directory.\n",
    "# For example, running this (by clicking run or pressing Shift+Enter) will list all files under the input directory\n",
    "\n",
    "import os\n",
    "for dirname, _, filenames in os.walk('/kaggle/input'):\n",
    "    for filename in filenames:\n",
    "        print(os.path.join(dirname, filename))\n",
    "\n",
    "# Any results you write to the current directory are saved as output."
   ]
  },
  {
   "cell_type": "code",
   "execution_count": 2,
   "metadata": {
    "_cell_guid": "79c7e3d0-c299-4dcb-8224-4455121ee9b0",
    "_uuid": "d629ff2d2480ee46fbb7e2d37f6b5fab8052498a"
   },
   "outputs": [],
   "source": [
    "data = pd.read_csv('../../kaggle/input/electric-motor-temperature/pmsm_temperature_data.csv')"
   ]
  },
  {
   "cell_type": "code",
   "execution_count": 3,
   "metadata": {},
   "outputs": [
    {
     "data": {
      "text/html": [
       "<div>\n",
       "<style scoped>\n",
       "    .dataframe tbody tr th:only-of-type {\n",
       "        vertical-align: middle;\n",
       "    }\n",
       "\n",
       "    .dataframe tbody tr th {\n",
       "        vertical-align: top;\n",
       "    }\n",
       "\n",
       "    .dataframe thead th {\n",
       "        text-align: right;\n",
       "    }\n",
       "</style>\n",
       "<table border=\"1\" class=\"dataframe\">\n",
       "  <thead>\n",
       "    <tr style=\"text-align: right;\">\n",
       "      <th></th>\n",
       "      <th>ambient</th>\n",
       "      <th>coolant</th>\n",
       "      <th>u_d</th>\n",
       "      <th>u_q</th>\n",
       "      <th>motor_speed</th>\n",
       "      <th>torque</th>\n",
       "      <th>i_d</th>\n",
       "      <th>i_q</th>\n",
       "      <th>pm</th>\n",
       "      <th>stator_yoke</th>\n",
       "      <th>stator_tooth</th>\n",
       "      <th>stator_winding</th>\n",
       "      <th>profile_id</th>\n",
       "    </tr>\n",
       "  </thead>\n",
       "  <tbody>\n",
       "    <tr>\n",
       "      <th>0</th>\n",
       "      <td>-0.752143</td>\n",
       "      <td>-1.118446</td>\n",
       "      <td>0.327935</td>\n",
       "      <td>-1.297858</td>\n",
       "      <td>-1.222428</td>\n",
       "      <td>-0.250182</td>\n",
       "      <td>1.029572</td>\n",
       "      <td>-0.245860</td>\n",
       "      <td>-2.522071</td>\n",
       "      <td>-1.831422</td>\n",
       "      <td>-2.066143</td>\n",
       "      <td>-2.018033</td>\n",
       "      <td>4</td>\n",
       "    </tr>\n",
       "    <tr>\n",
       "      <th>1</th>\n",
       "      <td>-0.771263</td>\n",
       "      <td>-1.117021</td>\n",
       "      <td>0.329665</td>\n",
       "      <td>-1.297686</td>\n",
       "      <td>-1.222429</td>\n",
       "      <td>-0.249133</td>\n",
       "      <td>1.029509</td>\n",
       "      <td>-0.245832</td>\n",
       "      <td>-2.522418</td>\n",
       "      <td>-1.830969</td>\n",
       "      <td>-2.064859</td>\n",
       "      <td>-2.017631</td>\n",
       "      <td>4</td>\n",
       "    </tr>\n",
       "    <tr>\n",
       "      <th>2</th>\n",
       "      <td>-0.782892</td>\n",
       "      <td>-1.116681</td>\n",
       "      <td>0.332771</td>\n",
       "      <td>-1.301822</td>\n",
       "      <td>-1.222428</td>\n",
       "      <td>-0.249431</td>\n",
       "      <td>1.029448</td>\n",
       "      <td>-0.245818</td>\n",
       "      <td>-2.522673</td>\n",
       "      <td>-1.830400</td>\n",
       "      <td>-2.064073</td>\n",
       "      <td>-2.017343</td>\n",
       "      <td>4</td>\n",
       "    </tr>\n",
       "    <tr>\n",
       "      <th>3</th>\n",
       "      <td>-0.780935</td>\n",
       "      <td>-1.116764</td>\n",
       "      <td>0.333700</td>\n",
       "      <td>-1.301852</td>\n",
       "      <td>-1.222430</td>\n",
       "      <td>-0.248636</td>\n",
       "      <td>1.032845</td>\n",
       "      <td>-0.246955</td>\n",
       "      <td>-2.521639</td>\n",
       "      <td>-1.830333</td>\n",
       "      <td>-2.063137</td>\n",
       "      <td>-2.017632</td>\n",
       "      <td>4</td>\n",
       "    </tr>\n",
       "    <tr>\n",
       "      <th>4</th>\n",
       "      <td>-0.774043</td>\n",
       "      <td>-1.116775</td>\n",
       "      <td>0.335206</td>\n",
       "      <td>-1.303118</td>\n",
       "      <td>-1.222429</td>\n",
       "      <td>-0.248701</td>\n",
       "      <td>1.031807</td>\n",
       "      <td>-0.246610</td>\n",
       "      <td>-2.521900</td>\n",
       "      <td>-1.830498</td>\n",
       "      <td>-2.062795</td>\n",
       "      <td>-2.018145</td>\n",
       "      <td>4</td>\n",
       "    </tr>\n",
       "  </tbody>\n",
       "</table>\n",
       "</div>"
      ],
      "text/plain": [
       "    ambient   coolant       u_d       u_q  motor_speed    torque       i_d  \\\n",
       "0 -0.752143 -1.118446  0.327935 -1.297858    -1.222428 -0.250182  1.029572   \n",
       "1 -0.771263 -1.117021  0.329665 -1.297686    -1.222429 -0.249133  1.029509   \n",
       "2 -0.782892 -1.116681  0.332771 -1.301822    -1.222428 -0.249431  1.029448   \n",
       "3 -0.780935 -1.116764  0.333700 -1.301852    -1.222430 -0.248636  1.032845   \n",
       "4 -0.774043 -1.116775  0.335206 -1.303118    -1.222429 -0.248701  1.031807   \n",
       "\n",
       "        i_q        pm  stator_yoke  stator_tooth  stator_winding  profile_id  \n",
       "0 -0.245860 -2.522071    -1.831422     -2.066143       -2.018033           4  \n",
       "1 -0.245832 -2.522418    -1.830969     -2.064859       -2.017631           4  \n",
       "2 -0.245818 -2.522673    -1.830400     -2.064073       -2.017343           4  \n",
       "3 -0.246955 -2.521639    -1.830333     -2.063137       -2.017632           4  \n",
       "4 -0.246610 -2.521900    -1.830498     -2.062795       -2.018145           4  "
      ]
     },
     "execution_count": 3,
     "metadata": {},
     "output_type": "execute_result"
    }
   ],
   "source": [
    "data.head()"
   ]
  },
  {
   "cell_type": "markdown",
   "metadata": {},
   "source": [
    "1. Load data set\n",
    "2. Check distributions\n",
    "3. Build function to drop 20% of values in 30% of columns\n",
    "4. Build function to implement various iterativeimputer on dataset\n",
    "5. Plot imputed values against real values\n",
    "6. Repeat and plot generalized results"
   ]
  },
  {
   "cell_type": "code",
   "execution_count": 4,
   "metadata": {},
   "outputs": [],
   "source": [
    "data.drop(columns='profile_id', inplace=True)"
   ]
  },
  {
   "cell_type": "code",
   "execution_count": 5,
   "metadata": {},
   "outputs": [
    {
     "data": {
      "text/plain": [
       "<matplotlib.axes._subplots.AxesSubplot at 0x7f241a7c59e8>"
      ]
     },
     "execution_count": 5,
     "metadata": {},
     "output_type": "execute_result"
    },
    {
     "data": {
      "image/png": "[encoded data removed]",
      "text/plain": [
       "<Figure size 864x576 with 1 Axes>"
      ]
     },
     "metadata": {
      "needs_background": "light"
     },
     "output_type": "display_data"
    }
   ],
   "source": [
    "data.boxplot(figsize=(12,8), grid=False)"
   ]
  },
  {
   "cell_type": "code",
   "execution_count": 6,
   "metadata": {},
   "outputs": [
    {
     "data": {
      "text/html": [
       "<div>\n",
       "<style scoped>\n",
       "    .dataframe tbody tr th:only-of-type {\n",
       "        vertical-align: middle;\n",
       "    }\n",
       "\n",
       "    .dataframe tbody tr th {\n",
       "        vertical-align: top;\n",
       "    }\n",
       "\n",
       "    .dataframe thead th {\n",
       "        text-align: right;\n",
       "    }\n",
       "</style>\n",
       "<table border=\"1\" class=\"dataframe\">\n",
       "  <thead>\n",
       "    <tr style=\"text-align: right;\">\n",
       "      <th></th>\n",
       "      <th>ambient</th>\n",
       "      <th>coolant</th>\n",
       "      <th>u_d</th>\n",
       "      <th>u_q</th>\n",
       "      <th>motor_speed</th>\n",
       "      <th>torque</th>\n",
       "      <th>i_d</th>\n",
       "      <th>i_q</th>\n",
       "      <th>pm</th>\n",
       "      <th>stator_yoke</th>\n",
       "      <th>stator_tooth</th>\n",
       "      <th>stator_winding</th>\n",
       "    </tr>\n",
       "  </thead>\n",
       "  <tbody>\n",
       "    <tr>\n",
       "      <th>count</th>\n",
       "      <td>998070.000000</td>\n",
       "      <td>998070.000000</td>\n",
       "      <td>998070.000000</td>\n",
       "      <td>998070.000000</td>\n",
       "      <td>998070.000000</td>\n",
       "      <td>998070.000000</td>\n",
       "      <td>998070.000000</td>\n",
       "      <td>998070.000000</td>\n",
       "      <td>998070.000000</td>\n",
       "      <td>998070.000000</td>\n",
       "      <td>998070.000000</td>\n",
       "      <td>998070.000000</td>\n",
       "    </tr>\n",
       "    <tr>\n",
       "      <th>mean</th>\n",
       "      <td>-0.003905</td>\n",
       "      <td>0.004723</td>\n",
       "      <td>0.004780</td>\n",
       "      <td>-0.005690</td>\n",
       "      <td>-0.006336</td>\n",
       "      <td>-0.003333</td>\n",
       "      <td>0.006043</td>\n",
       "      <td>-0.003194</td>\n",
       "      <td>-0.004396</td>\n",
       "      <td>0.000609</td>\n",
       "      <td>-0.002208</td>\n",
       "      <td>-0.003935</td>\n",
       "    </tr>\n",
       "    <tr>\n",
       "      <th>std</th>\n",
       "      <td>0.993127</td>\n",
       "      <td>1.002423</td>\n",
       "      <td>0.997878</td>\n",
       "      <td>1.002330</td>\n",
       "      <td>1.001229</td>\n",
       "      <td>0.997907</td>\n",
       "      <td>0.998994</td>\n",
       "      <td>0.997912</td>\n",
       "      <td>0.995686</td>\n",
       "      <td>1.001049</td>\n",
       "      <td>0.999597</td>\n",
       "      <td>0.998343</td>\n",
       "    </tr>\n",
       "    <tr>\n",
       "      <th>min</th>\n",
       "      <td>-8.573954</td>\n",
       "      <td>-1.429349</td>\n",
       "      <td>-1.655373</td>\n",
       "      <td>-1.861463</td>\n",
       "      <td>-1.371529</td>\n",
       "      <td>-3.345953</td>\n",
       "      <td>-3.245874</td>\n",
       "      <td>-3.341639</td>\n",
       "      <td>-2.631991</td>\n",
       "      <td>-1.834688</td>\n",
       "      <td>-2.066143</td>\n",
       "      <td>-2.019973</td>\n",
       "    </tr>\n",
       "    <tr>\n",
       "      <th>25%</th>\n",
       "      <td>-0.599385</td>\n",
       "      <td>-1.037925</td>\n",
       "      <td>-0.826359</td>\n",
       "      <td>-0.927390</td>\n",
       "      <td>-0.951892</td>\n",
       "      <td>-0.266917</td>\n",
       "      <td>-0.756296</td>\n",
       "      <td>-0.257269</td>\n",
       "      <td>-0.672308</td>\n",
       "      <td>-0.747265</td>\n",
       "      <td>-0.761951</td>\n",
       "      <td>-0.725622</td>\n",
       "    </tr>\n",
       "    <tr>\n",
       "      <th>50%</th>\n",
       "      <td>0.266157</td>\n",
       "      <td>-0.177187</td>\n",
       "      <td>0.267542</td>\n",
       "      <td>-0.099818</td>\n",
       "      <td>-0.140246</td>\n",
       "      <td>-0.187246</td>\n",
       "      <td>0.213935</td>\n",
       "      <td>-0.190076</td>\n",
       "      <td>0.094367</td>\n",
       "      <td>-0.057226</td>\n",
       "      <td>0.005085</td>\n",
       "      <td>0.006536</td>\n",
       "    </tr>\n",
       "    <tr>\n",
       "      <th>75%</th>\n",
       "      <td>0.686675</td>\n",
       "      <td>0.650709</td>\n",
       "      <td>0.358491</td>\n",
       "      <td>0.852625</td>\n",
       "      <td>0.853584</td>\n",
       "      <td>0.547171</td>\n",
       "      <td>1.013975</td>\n",
       "      <td>0.499260</td>\n",
       "      <td>0.680691</td>\n",
       "      <td>0.697344</td>\n",
       "      <td>0.772239</td>\n",
       "      <td>0.725660</td>\n",
       "    </tr>\n",
       "    <tr>\n",
       "      <th>max</th>\n",
       "      <td>2.967117</td>\n",
       "      <td>2.649032</td>\n",
       "      <td>2.274734</td>\n",
       "      <td>1.793498</td>\n",
       "      <td>2.024164</td>\n",
       "      <td>3.016971</td>\n",
       "      <td>1.060937</td>\n",
       "      <td>2.914185</td>\n",
       "      <td>2.917456</td>\n",
       "      <td>2.449158</td>\n",
       "      <td>2.326668</td>\n",
       "      <td>2.653781</td>\n",
       "    </tr>\n",
       "  </tbody>\n",
       "</table>\n",
       "</div>"
      ],
      "text/plain": [
       "             ambient        coolant            u_d            u_q  \\\n",
       "count  998070.000000  998070.000000  998070.000000  998070.000000   \n",
       "mean       -0.003905       0.004723       0.004780      -0.005690   \n",
       "std         0.993127       1.002423       0.997878       1.002330   \n",
       "min        -8.573954      -1.429349      -1.655373      -1.861463   \n",
       "25%        -0.599385      -1.037925      -0.826359      -0.927390   \n",
       "50%         0.266157      -0.177187       0.267542      -0.099818   \n",
       "75%         0.686675       0.650709       0.358491       0.852625   \n",
       "max         2.967117       2.649032       2.274734       1.793498   \n",
       "\n",
       "         motor_speed         torque            i_d            i_q  \\\n",
       "count  998070.000000  998070.000000  998070.000000  998070.000000   \n",
       "mean       -0.006336      -0.003333       0.006043      -0.003194   \n",
       "std         1.001229       0.997907       0.998994       0.997912   \n",
       "min        -1.371529      -3.345953      -3.245874      -3.341639   \n",
       "25%        -0.951892      -0.266917      -0.756296      -0.257269   \n",
       "50%        -0.140246      -0.187246       0.213935      -0.190076   \n",
       "75%         0.853584       0.547171       1.013975       0.499260   \n",
       "max         2.024164       3.016971       1.060937       2.914185   \n",
       "\n",
       "                  pm    stator_yoke   stator_tooth  stator_winding  \n",
       "count  998070.000000  998070.000000  998070.000000   998070.000000  \n",
       "mean       -0.004396       0.000609      -0.002208       -0.003935  \n",
       "std         0.995686       1.001049       0.999597        0.998343  \n",
       "min        -2.631991      -1.834688      -2.066143       -2.019973  \n",
       "25%        -0.672308      -0.747265      -0.761951       -0.725622  \n",
       "50%         0.094367      -0.057226       0.005085        0.006536  \n",
       "75%         0.680691       0.697344       0.772239        0.725660  \n",
       "max         2.917456       2.449158       2.326668        2.653781  "
      ]
     },
     "execution_count": 6,
     "metadata": {},
     "output_type": "execute_result"
    }
   ],
   "source": [
    "data.describe()"
   ]
  },
  {
   "cell_type": "code",
   "execution_count": 7,
   "metadata": {},
   "outputs": [],
   "source": [
    "df = data.copy()"
   ]
  },
  {
   "cell_type": "code",
   "execution_count": 8,
   "metadata": {},
   "outputs": [],
   "source": [
    "def defile_dataset(df, col_selection_rate=0.40):\n",
    "    cols = np.random.choice(df.columns, int(len(df.columns)*col_selection_rate))\n",
    "    df_cp = df.copy()\n",
    "    for col in cols:\n",
    "        data_drop_rate = np.random.choice(np.arange(0.15, 0.5, 0.02), 1)[0]\n",
    "        drop_ind = np.random.choice(np.arange(len(df_cp[col])), size=int(len(df_cp[col])*data_drop_rate), replace=False)\n",
    "        df_cp[col].iloc[drop_ind] = np.nan\n",
    "    return df_cp, cols"
   ]
  },
  {
   "cell_type": "code",
   "execution_count": 9,
   "metadata": {},
   "outputs": [],
   "source": [
    "df_mod, cols = defile_dataset(df)"
   ]
  },
  {
   "cell_type": "code",
   "execution_count": 10,
   "metadata": {},
   "outputs": [
    {
     "name": "stdout",
     "output_type": "stream",
     "text": [
      "<class 'pandas.core.frame.DataFrame'>\n",
      "RangeIndex: 998070 entries, 0 to 998069\n",
      "Data columns (total 12 columns):\n",
      "ambient           516527 non-null float64\n",
      "coolant           998070 non-null float64\n",
      "u_d               998070 non-null float64\n",
      "u_q               998070 non-null float64\n",
      "motor_speed       998070 non-null float64\n",
      "torque            998070 non-null float64\n",
      "i_d               998070 non-null float64\n",
      "i_q               648746 non-null float64\n",
      "pm                828399 non-null float64\n",
      "stator_yoke       998070 non-null float64\n",
      "stator_tooth      998070 non-null float64\n",
      "stator_winding    998070 non-null float64\n",
      "dtypes: float64(12)\n",
      "memory usage: 91.4 MB\n"
     ]
    }
   ],
   "source": [
    "df_mod.info()"
   ]
  },
  {
   "cell_type": "code",
   "execution_count": 11,
   "metadata": {},
   "outputs": [],
   "source": [
    "imputer = IterativeImputer(sample_posterior=True)\n",
    "imputer_non = IterativeImputer()"
   ]
  },
  {
   "cell_type": "code",
   "execution_count": 12,
   "metadata": {},
   "outputs": [],
   "source": [
    "df1 = df_mod.copy()\n",
    "df2 = df_mod.copy()"
   ]
  },
  {
   "cell_type": "code",
   "execution_count": 13,
   "metadata": {},
   "outputs": [],
   "source": [
    "df_mod_fit = imputer.fit_transform(df1)"
   ]
  },
  {
   "cell_type": "code",
   "execution_count": 14,
   "metadata": {},
   "outputs": [
    {
     "data": {
      "text/plain": [
       "{'add_indicator': False,\n",
       " 'estimator': None,\n",
       " 'imputation_order': 'ascending',\n",
       " 'initial_strategy': 'mean',\n",
       " 'max_iter': 10,\n",
       " 'max_value': None,\n",
       " 'min_value': None,\n",
       " 'missing_values': nan,\n",
       " 'n_nearest_features': None,\n",
       " 'random_state': None,\n",
       " 'sample_posterior': True,\n",
       " 'tol': 0.001,\n",
       " 'verbose': 0}"
      ]
     },
     "execution_count": 14,
     "metadata": {},
     "output_type": "execute_result"
    }
   ],
   "source": [
    "imputer.get_params()"
   ]
  },
  {
   "cell_type": "code",
   "execution_count": 15,
   "metadata": {},
   "outputs": [
    {
     "name": "stderr",
     "output_type": "stream",
     "text": [
      "/opt/conda/lib/python3.6/site-packages/sklearn/impute/_iterative.py:603: ConvergenceWarning: [IterativeImputer] Early stopping criterion not reached.\n",
      "  \" reached.\", ConvergenceWarning)\n"
     ]
    }
   ],
   "source": [
    "df_mod_fit_non = imputer_non.fit_transform(df2)"
   ]
  },
  {
   "cell_type": "code",
   "execution_count": 16,
   "metadata": {},
   "outputs": [
    {
     "data": {
      "text/plain": [
       "(998070, 12)"
      ]
     },
     "execution_count": 16,
     "metadata": {},
     "output_type": "execute_result"
    }
   ],
   "source": [
    "df_mod_fit.shape"
   ]
  },
  {
   "cell_type": "code",
   "execution_count": 17,
   "metadata": {},
   "outputs": [],
   "source": [
    "df_fit_np = df_mod_fit[:,[df.columns.get_loc(i) for i in cols]]"
   ]
  },
  {
   "cell_type": "code",
   "execution_count": 18,
   "metadata": {},
   "outputs": [],
   "source": [
    "df_fit_non_np = df_mod_fit_non[:,[df.columns.get_loc(i) for i in cols]]"
   ]
  },
  {
   "cell_type": "code",
   "execution_count": 19,
   "metadata": {},
   "outputs": [
    {
     "data": {
      "text/html": [
       "<div>\n",
       "<style scoped>\n",
       "    .dataframe tbody tr th:only-of-type {\n",
       "        vertical-align: middle;\n",
       "    }\n",
       "\n",
       "    .dataframe tbody tr th {\n",
       "        vertical-align: top;\n",
       "    }\n",
       "\n",
       "    .dataframe thead th {\n",
       "        text-align: right;\n",
       "    }\n",
       "</style>\n",
       "<table border=\"1\" class=\"dataframe\">\n",
       "  <thead>\n",
       "    <tr style=\"text-align: right;\">\n",
       "      <th></th>\n",
       "      <th>ambient</th>\n",
       "      <th>pm</th>\n",
       "      <th>i_q</th>\n",
       "      <th>ambient</th>\n",
       "    </tr>\n",
       "  </thead>\n",
       "  <tbody>\n",
       "    <tr>\n",
       "      <th>0</th>\n",
       "      <td>-1.510699</td>\n",
       "      <td>-2.522071</td>\n",
       "      <td>-0.245860</td>\n",
       "      <td>-1.510699</td>\n",
       "    </tr>\n",
       "    <tr>\n",
       "      <th>1</th>\n",
       "      <td>-0.771263</td>\n",
       "      <td>-2.522418</td>\n",
       "      <td>-0.231170</td>\n",
       "      <td>-0.771263</td>\n",
       "    </tr>\n",
       "    <tr>\n",
       "      <th>2</th>\n",
       "      <td>-1.506071</td>\n",
       "      <td>-2.522673</td>\n",
       "      <td>-0.237758</td>\n",
       "      <td>-1.506071</td>\n",
       "    </tr>\n",
       "    <tr>\n",
       "      <th>3</th>\n",
       "      <td>-0.780935</td>\n",
       "      <td>-2.521639</td>\n",
       "      <td>-0.230302</td>\n",
       "      <td>-0.780935</td>\n",
       "    </tr>\n",
       "    <tr>\n",
       "      <th>4</th>\n",
       "      <td>-1.516458</td>\n",
       "      <td>-2.521900</td>\n",
       "      <td>-0.246610</td>\n",
       "      <td>-1.516458</td>\n",
       "    </tr>\n",
       "    <tr>\n",
       "      <th>...</th>\n",
       "      <td>...</td>\n",
       "      <td>...</td>\n",
       "      <td>...</td>\n",
       "      <td>...</td>\n",
       "    </tr>\n",
       "    <tr>\n",
       "      <th>998065</th>\n",
       "      <td>-0.047497</td>\n",
       "      <td>1.045537</td>\n",
       "      <td>-0.235267</td>\n",
       "      <td>-0.047497</td>\n",
       "    </tr>\n",
       "    <tr>\n",
       "      <th>998066</th>\n",
       "      <td>-0.048839</td>\n",
       "      <td>0.429751</td>\n",
       "      <td>-0.245736</td>\n",
       "      <td>-0.048839</td>\n",
       "    </tr>\n",
       "    <tr>\n",
       "      <th>998067</th>\n",
       "      <td>-0.042350</td>\n",
       "      <td>1.074434</td>\n",
       "      <td>-0.234864</td>\n",
       "      <td>-0.042350</td>\n",
       "    </tr>\n",
       "    <tr>\n",
       "      <th>998068</th>\n",
       "      <td>-0.039433</td>\n",
       "      <td>0.429558</td>\n",
       "      <td>-0.231546</td>\n",
       "      <td>-0.039433</td>\n",
       "    </tr>\n",
       "    <tr>\n",
       "      <th>998069</th>\n",
       "      <td>-0.043803</td>\n",
       "      <td>0.429166</td>\n",
       "      <td>-0.245722</td>\n",
       "      <td>-0.043803</td>\n",
       "    </tr>\n",
       "  </tbody>\n",
       "</table>\n",
       "<p>998070 rows × 4 columns</p>\n",
       "</div>"
      ],
      "text/plain": [
       "         ambient        pm       i_q   ambient\n",
       "0      -1.510699 -2.522071 -0.245860 -1.510699\n",
       "1      -0.771263 -2.522418 -0.231170 -0.771263\n",
       "2      -1.506071 -2.522673 -0.237758 -1.506071\n",
       "3      -0.780935 -2.521639 -0.230302 -0.780935\n",
       "4      -1.516458 -2.521900 -0.246610 -1.516458\n",
       "...          ...       ...       ...       ...\n",
       "998065 -0.047497  1.045537 -0.235267 -0.047497\n",
       "998066 -0.048839  0.429751 -0.245736 -0.048839\n",
       "998067 -0.042350  1.074434 -0.234864 -0.042350\n",
       "998068 -0.039433  0.429558 -0.231546 -0.039433\n",
       "998069 -0.043803  0.429166 -0.245722 -0.043803\n",
       "\n",
       "[998070 rows x 4 columns]"
      ]
     },
     "execution_count": 19,
     "metadata": {},
     "output_type": "execute_result"
    }
   ],
   "source": [
    "pd.DataFrame(df_fit_non_np, columns=cols)"
   ]
  },
  {
   "cell_type": "code",
   "execution_count": 20,
   "metadata": {},
   "outputs": [],
   "source": [
    "df_np = df[cols].values"
   ]
  },
  {
   "cell_type": "code",
   "execution_count": 21,
   "metadata": {},
   "outputs": [
    {
     "name": "stdout",
     "output_type": "stream",
     "text": [
      "(998070, 4)\n",
      "(998070, 4)\n"
     ]
    }
   ],
   "source": [
    "print(df_fit_np.shape)\n",
    "print(df_np.shape)"
   ]
  },
  {
   "cell_type": "code",
   "execution_count": 22,
   "metadata": {},
   "outputs": [
    {
     "name": "stdout",
     "output_type": "stream",
     "text": [
      "When sample posterior is True 0.599 and when it isnt 0.302\n",
      "When sample posterior is True 0.082 and when it isnt 0.043\n",
      "When sample posterior is True 0.003 and when it isnt 0.002\n",
      "When sample posterior is True 0.599 and when it isnt 0.302\n"
     ]
    }
   ],
   "source": [
    "for i in range(len(cols)):\n",
    "    print(\"When sample posterior is True {:.3f} and when it isnt {:.3f}\".format(mean_squared_error(df_np[:,i], df_fit_np[:,i]), mean_squared_error(df_np[:,i], df_fit_non_np[:,i])))"
   ]
  },
  {
   "cell_type": "code",
   "execution_count": 23,
   "metadata": {},
   "outputs": [
    {
     "name": "stdout",
     "output_type": "stream",
     "text": [
      "[0.99312628 0.99568575 0.99791165 0.99312628]\n",
      "[0.84284381 0.97800331 0.99729188 0.84284381]\n"
     ]
    }
   ],
   "source": [
    "print(np.std(df_np, axis=0))\n",
    "print(np.std(df_fit_non_np, axis=0))"
   ]
  },
  {
   "cell_type": "code",
   "execution_count": 24,
   "metadata": {},
   "outputs": [
    {
     "name": "stdout",
     "output_type": "stream",
     "text": [
      "[0.00099409 0.00099665 0.00099888 0.00099409]\n",
      "[0.00084366 0.00097895 0.00099826 0.00084366]\n"
     ]
    }
   ],
   "source": [
    "print(stats.sem(df_np, axis=0))\n",
    "print(stats.sem(df_fit_non_np, axis=0))"
   ]
  },
  {
   "cell_type": "code",
   "execution_count": 25,
   "metadata": {},
   "outputs": [],
   "source": [
    "def impute(df_orig):\n",
    "    df_miss, cols = defile_dataset(df_orig)\n",
    "    df_orig_slice = df_orig[cols]\n",
    "    imputed_data = []\n",
    "    n_iterations = []\n",
    "    for i in range(10):\n",
    "        imputer = IterativeImputer(max_iter=(i+1)*10)\n",
    "        df_stg = df_miss.copy()\n",
    "        imp_arr = imputer.fit_transform(df_stg)\n",
    "        n_iterations.append(imputer.n_iter_)\n",
    "        imp_arr_sl = imp_arr[:,[df_orig.columns.get_loc(i) for i in cols]]\n",
    "        imputed_data.append(pd.DataFrame(imp_arr_sl, columns=cols))\n",
    "    return df_orig_slice, imputed_data, n_iterations"
   ]
  },
  {
   "cell_type": "code",
   "execution_count": 26,
   "metadata": {},
   "outputs": [],
   "source": [
    "def impute_once(df_orig):\n",
    "    df_miss, cols = defile_dataset(df_orig)\n",
    "    df_orig_slice = df_orig[cols]\n",
    "    imputer = IterativeImputer(max_iter=100)\n",
    "    df_stg = df_miss.copy()\n",
    "    imp_arr = imputer.fit_transform(df_stg)\n",
    "    return df_orig_slice, df_miss[cols], pd.DataFrame(imp_arr[:,[df_orig.columns.get_loc(i) for i in cols]], columns=cols), imputer.n_iter_"
   ]
  },
  {
   "cell_type": "code",
   "execution_count": 27,
   "metadata": {},
   "outputs": [],
   "source": [
    "df_orig, imp_data, n_iter = impute(df)"
   ]
  },
  {
   "cell_type": "code",
   "execution_count": 28,
   "metadata": {},
   "outputs": [
    {
     "data": {
      "text/html": [
       "<div>\n",
       "<style scoped>\n",
       "    .dataframe tbody tr th:only-of-type {\n",
       "        vertical-align: middle;\n",
       "    }\n",
       "\n",
       "    .dataframe tbody tr th {\n",
       "        vertical-align: top;\n",
       "    }\n",
       "\n",
       "    .dataframe thead th {\n",
       "        text-align: right;\n",
       "    }\n",
       "</style>\n",
       "<table border=\"1\" class=\"dataframe\">\n",
       "  <thead>\n",
       "    <tr style=\"text-align: right;\">\n",
       "      <th></th>\n",
       "      <th>coolant</th>\n",
       "      <th>stator_winding</th>\n",
       "      <th>i_d</th>\n",
       "      <th>u_d</th>\n",
       "    </tr>\n",
       "  </thead>\n",
       "  <tbody>\n",
       "    <tr>\n",
       "      <th>0</th>\n",
       "      <td>-1.118446</td>\n",
       "      <td>-2.018033</td>\n",
       "      <td>1.029572</td>\n",
       "      <td>0.327935</td>\n",
       "    </tr>\n",
       "    <tr>\n",
       "      <th>1</th>\n",
       "      <td>-1.117021</td>\n",
       "      <td>-2.017631</td>\n",
       "      <td>1.029509</td>\n",
       "      <td>0.329665</td>\n",
       "    </tr>\n",
       "    <tr>\n",
       "      <th>2</th>\n",
       "      <td>-1.116681</td>\n",
       "      <td>-2.017343</td>\n",
       "      <td>1.029448</td>\n",
       "      <td>0.332771</td>\n",
       "    </tr>\n",
       "    <tr>\n",
       "      <th>3</th>\n",
       "      <td>-1.116764</td>\n",
       "      <td>-2.017632</td>\n",
       "      <td>1.032845</td>\n",
       "      <td>0.333700</td>\n",
       "    </tr>\n",
       "    <tr>\n",
       "      <th>4</th>\n",
       "      <td>-1.116775</td>\n",
       "      <td>-2.018145</td>\n",
       "      <td>1.031807</td>\n",
       "      <td>0.335206</td>\n",
       "    </tr>\n",
       "  </tbody>\n",
       "</table>\n",
       "</div>"
      ],
      "text/plain": [
       "    coolant  stator_winding       i_d       u_d\n",
       "0 -1.118446       -2.018033  1.029572  0.327935\n",
       "1 -1.117021       -2.017631  1.029509  0.329665\n",
       "2 -1.116681       -2.017343  1.029448  0.332771\n",
       "3 -1.116764       -2.017632  1.032845  0.333700\n",
       "4 -1.116775       -2.018145  1.031807  0.335206"
      ]
     },
     "execution_count": 28,
     "metadata": {},
     "output_type": "execute_result"
    }
   ],
   "source": [
    "df_orig.head()"
   ]
  },
  {
   "cell_type": "code",
   "execution_count": 29,
   "metadata": {},
   "outputs": [
    {
     "data": {
      "text/plain": [
       "10"
      ]
     },
     "execution_count": 29,
     "metadata": {},
     "output_type": "execute_result"
    }
   ],
   "source": [
    "len(imp_data)"
   ]
  },
  {
   "cell_type": "code",
   "execution_count": 30,
   "metadata": {},
   "outputs": [],
   "source": [
    "cols = df_orig.columns"
   ]
  },
  {
   "cell_type": "code",
   "execution_count": 31,
   "metadata": {},
   "outputs": [
    {
     "data": {
      "text/plain": [
       "0        -1.118446\n",
       "1        -1.117021\n",
       "2        -1.030918\n",
       "3        -1.116764\n",
       "4        -1.034998\n",
       "            ...   \n",
       "998065    0.905269\n",
       "998066    0.894415\n",
       "998067    0.869482\n",
       "998068    0.861070\n",
       "998069    0.312666\n",
       "Name: coolant, Length: 998070, dtype: float64"
      ]
     },
     "execution_count": 31,
     "metadata": {},
     "output_type": "execute_result"
    }
   ],
   "source": [
    "imp_data[0][cols[0]]"
   ]
  },
  {
   "cell_type": "code",
   "execution_count": 32,
   "metadata": {},
   "outputs": [
    {
     "data": {
      "text/plain": [
       "[9, 9, 9, 9, 9, 9, 9, 9, 9, 9]"
      ]
     },
     "execution_count": 32,
     "metadata": {},
     "output_type": "execute_result"
    }
   ],
   "source": [
    "n_iter"
   ]
  },
  {
   "cell_type": "code",
   "execution_count": 33,
   "metadata": {},
   "outputs": [
    {
     "data": {
      "image/png": "[encoded data removed]",
      "text/plain": [
       "<Figure size 720x720 with 4 Axes>"
      ]
     },
     "metadata": {
      "needs_background": "light"
     },
     "output_type": "display_data"
    }
   ],
   "source": [
    "fig, axes = plt.subplots(len(cols), sharex=True, figsize=(6,6), dpi=120)\n",
    "for i in range(len(cols)):\n",
    "    bars = []\n",
    "    for j in range(len(imp_data)):\n",
    "        bars.append(mean_squared_error(df_orig[cols[i]], imp_data[j][cols[i]])) \n",
    "    axes[i].bar(np.arange(10), bars, color='white', width=0.6, edgecolor='k', linewidth=1)\n",
    "    axes[i].set_ylim([0,0.2])\n",
    "    axes[i].set_yticks([])\n",
    "    for k in range(len(imp_data)):\n",
    "        axes[i].text(k-0.2, bars[k]+0.01, round(bars[k], 3), fontsize=6)\n",
    "    axes[i].set_title(str(cols[i]))\n",
    "fig.tight_layout()\n",
    "plt.show()"
   ]
  },
  {
   "cell_type": "code",
   "execution_count": 34,
   "metadata": {},
   "outputs": [
    {
     "data": {
      "text/plain": [
       "'\\nfig, axes = plt.subplots(len(cols), sharex=True, figsize=(10,8), dpi=120)\\nfor i in range(len(cols)):\\n    for j in range(len(imp_data)):\\n        sns.boxplot(np.arange(10), imp_data[j][cols[i]], ax=axes[i])\\n    #axes[i].set_ylim([0.8,1.2])\\n    #axes[i].set_yticks([])\\n    #for k in range(len(imp_data)):\\n        #axes[i].text(k-0.2, bars[k]+0.01, round(bars[k], 3), fontsize=6)\\n    #axes[i].set_title(str(cols[i]))\\nfig.tight_layout()\\nplt.show()\\n'"
      ]
     },
     "execution_count": 34,
     "metadata": {},
     "output_type": "execute_result"
    }
   ],
   "source": [
    "'''\n",
    "fig, axes = plt.subplots(len(cols), sharex=True, figsize=(10,8), dpi=120)\n",
    "for i in range(len(cols)):\n",
    "    for j in range(len(imp_data)):\n",
    "        sns.boxplot(np.arange(10), imp_data[j][cols[i]], ax=axes[i])\n",
    "    #axes[i].set_ylim([0.8,1.2])\n",
    "    #axes[i].set_yticks([])\n",
    "    #for k in range(len(imp_data)):\n",
    "        #axes[i].text(k-0.2, bars[k]+0.01, round(bars[k], 3), fontsize=6)\n",
    "    #axes[i].set_title(str(cols[i]))\n",
    "fig.tight_layout()\n",
    "plt.show()\n",
    "'''"
   ]
  },
  {
   "cell_type": "code",
   "execution_count": 35,
   "metadata": {},
   "outputs": [
    {
     "data": {
      "text/html": [
       "<div>\n",
       "<style scoped>\n",
       "    .dataframe tbody tr th:only-of-type {\n",
       "        vertical-align: middle;\n",
       "    }\n",
       "\n",
       "    .dataframe tbody tr th {\n",
       "        vertical-align: top;\n",
       "    }\n",
       "\n",
       "    .dataframe thead th {\n",
       "        text-align: right;\n",
       "    }\n",
       "</style>\n",
       "<table border=\"1\" class=\"dataframe\">\n",
       "  <thead>\n",
       "    <tr style=\"text-align: right;\">\n",
       "      <th></th>\n",
       "      <th>level_0</th>\n",
       "      <th>level_1</th>\n",
       "      <th>0</th>\n",
       "    </tr>\n",
       "  </thead>\n",
       "  <tbody>\n",
       "    <tr>\n",
       "      <th>0</th>\n",
       "      <td>0</td>\n",
       "      <td>coolant</td>\n",
       "      <td>-1.118446</td>\n",
       "    </tr>\n",
       "    <tr>\n",
       "      <th>1</th>\n",
       "      <td>0</td>\n",
       "      <td>stator_winding</td>\n",
       "      <td>-2.045265</td>\n",
       "    </tr>\n",
       "    <tr>\n",
       "      <th>2</th>\n",
       "      <td>0</td>\n",
       "      <td>i_d</td>\n",
       "      <td>1.029572</td>\n",
       "    </tr>\n",
       "    <tr>\n",
       "      <th>3</th>\n",
       "      <td>0</td>\n",
       "      <td>u_d</td>\n",
       "      <td>0.327935</td>\n",
       "    </tr>\n",
       "    <tr>\n",
       "      <th>4</th>\n",
       "      <td>1</td>\n",
       "      <td>coolant</td>\n",
       "      <td>-1.117021</td>\n",
       "    </tr>\n",
       "    <tr>\n",
       "      <th>...</th>\n",
       "      <td>...</td>\n",
       "      <td>...</td>\n",
       "      <td>...</td>\n",
       "    </tr>\n",
       "    <tr>\n",
       "      <th>3992275</th>\n",
       "      <td>998068</td>\n",
       "      <td>u_d</td>\n",
       "      <td>0.152994</td>\n",
       "    </tr>\n",
       "    <tr>\n",
       "      <th>3992276</th>\n",
       "      <td>998069</td>\n",
       "      <td>coolant</td>\n",
       "      <td>0.312666</td>\n",
       "    </tr>\n",
       "    <tr>\n",
       "      <th>3992277</th>\n",
       "      <td>998069</td>\n",
       "      <td>stator_winding</td>\n",
       "      <td>0.489382</td>\n",
       "    </tr>\n",
       "    <tr>\n",
       "      <th>3992278</th>\n",
       "      <td>998069</td>\n",
       "      <td>i_d</td>\n",
       "      <td>1.029141</td>\n",
       "    </tr>\n",
       "    <tr>\n",
       "      <th>3992279</th>\n",
       "      <td>998069</td>\n",
       "      <td>u_d</td>\n",
       "      <td>0.156824</td>\n",
       "    </tr>\n",
       "  </tbody>\n",
       "</table>\n",
       "<p>3992280 rows × 3 columns</p>\n",
       "</div>"
      ],
      "text/plain": [
       "         level_0         level_1         0\n",
       "0              0         coolant -1.118446\n",
       "1              0  stator_winding -2.045265\n",
       "2              0             i_d  1.029572\n",
       "3              0             u_d  0.327935\n",
       "4              1         coolant -1.117021\n",
       "...          ...             ...       ...\n",
       "3992275   998068             u_d  0.152994\n",
       "3992276   998069         coolant  0.312666\n",
       "3992277   998069  stator_winding  0.489382\n",
       "3992278   998069             i_d  1.029141\n",
       "3992279   998069             u_d  0.156824\n",
       "\n",
       "[3992280 rows x 3 columns]"
      ]
     },
     "execution_count": 35,
     "metadata": {},
     "output_type": "execute_result"
    }
   ],
   "source": [
    "pd.DataFrame(imp_data[0].stack()).reset_index()"
   ]
  },
  {
   "cell_type": "code",
   "execution_count": 36,
   "metadata": {},
   "outputs": [],
   "source": [
    "df_og, df_def, df_imp, n_iter = impute_once(df)"
   ]
  },
  {
   "cell_type": "code",
   "execution_count": 37,
   "metadata": {},
   "outputs": [
    {
     "name": "stdout",
     "output_type": "stream",
     "text": [
      "Index(['pm', 'stator_yoke', 'torque', 'ambient'], dtype='object')\n",
      "Index(['pm', 'stator_yoke', 'torque', 'ambient'], dtype='object')\n",
      "8\n"
     ]
    }
   ],
   "source": [
    "print(df_og.columns)\n",
    "print(df_imp.columns)\n",
    "print(n_iter)"
   ]
  },
  {
   "cell_type": "code",
   "execution_count": 38,
   "metadata": {},
   "outputs": [
    {
     "name": "stdout",
     "output_type": "stream",
     "text": [
      "Iterative Imputer: MSE for pm is 0.0950.\n",
      "Iterative Imputer: MSE for stator_yoke is 0.0004.\n",
      "Iterative Imputer: MSE for torque is 0.0012.\n",
      "Iterative Imputer: MSE for ambient is 0.2057.\n"
     ]
    }
   ],
   "source": [
    "for i in range(len(df_og.columns)):\n",
    "    print(\"Iterative Imputer: MSE for {} is {:.4f}.\".format(df_og.columns[i], mean_squared_error(df_og[df_og.columns[i]], df_imp[df_imp.columns[i]])))"
   ]
  },
  {
   "cell_type": "code",
   "execution_count": 39,
   "metadata": {},
   "outputs": [],
   "source": [
    "df_def = df_def[df_og.columns]"
   ]
  },
  {
   "cell_type": "code",
   "execution_count": 40,
   "metadata": {},
   "outputs": [],
   "source": [
    "from sklearn.impute import SimpleImputer"
   ]
  },
  {
   "cell_type": "code",
   "execution_count": 41,
   "metadata": {},
   "outputs": [],
   "source": [
    "sim_imp = SimpleImputer()"
   ]
  },
  {
   "cell_type": "code",
   "execution_count": 42,
   "metadata": {},
   "outputs": [],
   "source": [
    "df_simimp = pd.DataFrame(sim_imp.fit_transform(df_def), columns=df_og.columns)"
   ]
  },
  {
   "cell_type": "code",
   "execution_count": 43,
   "metadata": {},
   "outputs": [
    {
     "name": "stdout",
     "output_type": "stream",
     "text": [
      "Simple Imputer: MSE for pm is 0.3869.\n",
      "Simple Imputer: MSE for stator_yoke is 0.1501.\n",
      "Simple Imputer: MSE for torque is 0.3282.\n",
      "Simple Imputer: MSE for ambient is 0.3048.\n"
     ]
    }
   ],
   "source": [
    "for i in range(len(df_og.columns)):\n",
    "    print(\"Simple Imputer: MSE for {} is {:.4f}.\".format(df_og.columns[i], mean_squared_error(df_og[df_og.columns[i]], df_simimp[df_simimp.columns[i]])))"
   ]
  },
  {
   "cell_type": "code",
   "execution_count": null,
   "metadata": {},
   "outputs": [],
   "source": []
  }
 ],
 "metadata": {
  "kernelspec": {
   "display_name": "Python 3",
   "language": "python",
   "name": "python3"
  },
  "language_info": {
   "codemirror_mode": {
    "name": "ipython",
    "version": 3
   },
   "file_extension": ".py",
   "mimetype": "text/x-python",
   "name": "python",
   "nbconvert_exporter": "python",
   "pygments_lexer": "ipython3",
   "version": "3.6.6"
  }
 },
 "nbformat": 4,
 "nbformat_minor": 1
}
